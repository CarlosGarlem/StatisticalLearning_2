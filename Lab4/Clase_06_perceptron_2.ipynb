{
 "cells": [
  {
   "cell_type": "code",
   "execution_count": 1,
   "metadata": {
    "executionInfo": {
     "elapsed": 670,
     "status": "ok",
     "timestamp": 1627956711912,
     "user": {
      "displayName": "Luis Fernando Leal Hernandez",
      "photoUrl": "",
      "userId": "08643725771405988586"
     },
     "user_tz": 300
    },
    "id": "dm-sgnYN-rZh"
   },
   "outputs": [],
   "source": [
    "import numpy as np\n",
    "import pandas as pd\n",
    "import matplotlib.pyplot as plt\n",
    "import seaborn as sns\n",
    "from matplotlib.colors import ListedColormap"
   ]
  },
  {
   "cell_type": "markdown",
   "metadata": {
    "id": "bGbvb8Z8_A7L"
   },
   "source": [
    "## AND"
   ]
  },
  {
   "cell_type": "code",
   "execution_count": 2,
   "metadata": {
    "executionInfo": {
     "elapsed": 284,
     "status": "ok",
     "timestamp": 1627956721932,
     "user": {
      "displayName": "Luis Fernando Leal Hernandez",
      "photoUrl": "",
      "userId": "08643725771405988586"
     },
     "user_tz": 300
    },
    "id": "ybjmOkeQ_Lqe"
   },
   "outputs": [],
   "source": [
    "X = np.array([[0, 0], [0, 1], [1, 0], [1, 1]])\n",
    "Y = np.array([0,0,0,1])"
   ]
  },
  {
   "cell_type": "code",
   "execution_count": 3,
   "metadata": {
    "colab": {
     "base_uri": "https://localhost:8080/",
     "height": 265
    },
    "executionInfo": {
     "elapsed": 419,
     "status": "ok",
     "timestamp": 1627956725773,
     "user": {
      "displayName": "Luis Fernando Leal Hernandez",
      "photoUrl": "",
      "userId": "08643725771405988586"
     },
     "user_tz": 300
    },
    "id": "yJZPcXyz_mST",
    "outputId": "622853f5-3050-4422-b87b-2a8414fee085"
   },
   "outputs": [
    {
     "data": {
      "image/png": "[encoded data removed]",
      "text/plain": [
       "<Figure size 432x288 with 1 Axes>"
      ]
     },
     "metadata": {
      "needs_background": "light"
     },
     "output_type": "display_data"
    }
   ],
   "source": [
    "colours = ListedColormap(['r','b'])\n",
    "classes = [\"0\",\"1\"]\n",
    "plot = plt.scatter(X[:,0],X[:, 1],c=list(Y),cmap=colours)\n",
    "\n",
    "plt.legend(handles=plot.legend_elements()[0],labels=classes)\n",
    "plt.grid(True)\n",
    "plt.show()"
   ]
  },
  {
   "cell_type": "code",
   "execution_count": 4,
   "metadata": {
    "colab": {
     "base_uri": "https://localhost:8080/",
     "height": 466
    },
    "executionInfo": {
     "elapsed": 679,
     "status": "ok",
     "timestamp": 1627956754611,
     "user": {
      "displayName": "Luis Fernando Leal Hernandez",
      "photoUrl": "",
      "userId": "08643725771405988586"
     },
     "user_tz": 300
    },
    "id": "0hpslw7f-wuq",
    "outputId": "c3672c47-d5da-4113-c63f-e06f234e896a"
   },
   "outputs": [
    {
     "name": "stdout",
     "output_type": "stream",
     "text": [
      "0 [0 0]\n",
      "1 [0 1]\n",
      "2 [1 0]\n",
      "3 [1 1]\n",
      "Nice!  You got it all correct.\n",
      "\n",
      " Input 1    Input 2    Linear Combination    Activation Output  Real value   Is Correct\n",
      "       0          0                  -1.5                    0           0          Yes\n",
      "       0          1                  -0.5                    0           0          Yes\n",
      "       1          0                  -0.5                    0           0          Yes\n",
      "       1          1                   0.5                    1           1          Yes\n"
     ]
    },
    {
     "data": {
      "image/png": "[encoded data removed]",
      "text/plain": [
       "<Figure size 432x288 with 1 Axes>"
      ]
     },
     "metadata": {
      "needs_background": "light"
     },
     "output_type": "display_data"
    }
   ],
   "source": [
    "import pandas as pd\n",
    "\n",
    "# TODO: Set weight1, weight2, and bias\n",
    "weight1 = 1 #default 1\n",
    "weight2 = 1 #default 1\n",
    "bias = -1.5 #default -1.5\n",
    "\n",
    "\n",
    "# DON'T CHANGE ANYTHING BELOW\n",
    "# Inputs and outputs\n",
    "test_inputs =  X\n",
    "correct_outputs = [y for y in Y]\n",
    "outputs = []\n",
    "Y_preds = []\n",
    "\n",
    "# Generate and check output\n",
    "for test_input, correct_output in zip(test_inputs, correct_outputs):\n",
    "    linear_combination = weight1 * test_input[0] + weight2 * test_input[1] + bias\n",
    "    output = int(linear_combination >= 0)\n",
    "    is_correct_string = 'Yes' if output == correct_output else 'No'\n",
    "    outputs.append([test_input[0], test_input[1], linear_combination, output,correct_output, is_correct_string])\n",
    "    print(len(Y_preds),test_input)\n",
    "    Y_preds.append(output)\n",
    "\n",
    "# Print output\n",
    "num_wrong = len([output[4] for output in outputs if output[4] == 'No'])\n",
    "output_frame = pd.DataFrame(outputs, columns=['Input 1', '  Input 2', '  Linear Combination', '  Activation Output',\"Real value\", '  Is Correct'])\n",
    "if not num_wrong:\n",
    "    print('Nice!  You got it all correct.\\n')\n",
    "else:\n",
    "    print('You got {} wrong.  Keep trying!\\n'.format(num_wrong))\n",
    "print(output_frame.to_string(index=False))\n",
    "##########################################\n",
    "line_x = np.linspace(0,1.3)\n",
    "line_y = (-line_x*weight1 - bias)/weight2\n",
    "sns.scatterplot(data = output_frame,x=\"Input 1\",y=\"  Input 2\",hue=\"Real value\",style=\"  Activation Output\")\n",
    "plt.plot(line_x,line_y)\n",
    "# Put the legend out of the figure\n",
    "plt.legend(bbox_to_anchor=(1.05, 1), loc=2, borderaxespad=0.)\n",
    "plt.show()"
   ]
  },
  {
   "cell_type": "markdown",
   "metadata": {
    "id": "lESgV-e1CXE8"
   },
   "source": [
    "## OR"
   ]
  },
  {
   "cell_type": "code",
   "execution_count": 5,
   "metadata": {
    "executionInfo": {
     "elapsed": 270,
     "status": "ok",
     "timestamp": 1627956784031,
     "user": {
      "displayName": "Luis Fernando Leal Hernandez",
      "photoUrl": "",
      "userId": "08643725771405988586"
     },
     "user_tz": 300
    },
    "id": "SKE1EnGI-4Ft"
   },
   "outputs": [],
   "source": [
    "X = np.array([[0, 0], [0, 1], [1, 0], [1, 1]])\n",
    "Y = np.array([0,1,1,1])"
   ]
  },
  {
   "cell_type": "code",
   "execution_count": 6,
   "metadata": {
    "colab": {
     "base_uri": "https://localhost:8080/",
     "height": 265
    },
    "executionInfo": {
     "elapsed": 381,
     "status": "ok",
     "timestamp": 1627956787790,
     "user": {
      "displayName": "Luis Fernando Leal Hernandez",
      "photoUrl": "",
      "userId": "08643725771405988586"
     },
     "user_tz": 300
    },
    "id": "RFDvQHZdCao8",
    "outputId": "ebc338f9-b799-4dd3-b6f1-10305225fb11"
   },
   "outputs": [
    {
     "data": {
      "image/png": "[encoded data removed]",
      "text/plain": [
       "<Figure size 432x288 with 1 Axes>"
      ]
     },
     "metadata": {
      "needs_background": "light"
     },
     "output_type": "display_data"
    }
   ],
   "source": [
    "colours = ListedColormap(['r','b'])\n",
    "classes = [\"0\",\"1\"]\n",
    "plot = plt.scatter(X[:,0],X[:, 1],c=list(Y),cmap=colours)\n",
    "\n",
    "plt.legend(handles=plot.legend_elements()[0],labels=classes)\n",
    "plt.grid(True)\n",
    "plt.show()"
   ]
  },
  {
   "cell_type": "code",
   "execution_count": 7,
   "metadata": {
    "colab": {
     "base_uri": "https://localhost:8080/",
     "height": 466
    },
    "executionInfo": {
     "elapsed": 527,
     "status": "ok",
     "timestamp": 1627956905662,
     "user": {
      "displayName": "Luis Fernando Leal Hernandez",
      "photoUrl": "",
      "userId": "08643725771405988586"
     },
     "user_tz": 300
    },
    "id": "XgO7wIn3CnSd",
    "outputId": "d41d3ec9-80a1-4b8f-e4f9-3842b0aeeb46"
   },
   "outputs": [
    {
     "name": "stdout",
     "output_type": "stream",
     "text": [
      "0 [0 0]\n",
      "1 [0 1]\n",
      "2 [1 0]\n",
      "3 [1 1]\n",
      "Nice!  You got it all correct.\n",
      "\n",
      " Input 1    Input 2    Linear Combination    Activation Output  Real value   Is Correct\n",
      "       0          0                  -1.5                    0           0          Yes\n",
      "       0          1                   0.5                    1           1          Yes\n",
      "       1          0                   0.5                    1           1          Yes\n",
      "       1          1                   2.5                    1           1          Yes\n"
     ]
    },
    {
     "data": {
      "image/png": "[encoded data removed]",
      "text/plain": [
       "<Figure size 432x288 with 1 Axes>"
      ]
     },
     "metadata": {
      "needs_background": "light"
     },
     "output_type": "display_data"
    }
   ],
   "source": [
    "import pandas as pd\n",
    "\n",
    "# TODO: Set weight1, weight2, and bias\n",
    "weight1 = 2 #default 0\n",
    "weight2 = 2 #default 0\n",
    "bias = -1.5 #default 0\n",
    "\n",
    "\n",
    "# DON'T CHANGE ANYTHING BELOW\n",
    "# Inputs and outputs\n",
    "test_inputs =  X\n",
    "correct_outputs = [y for y in Y]\n",
    "outputs = []\n",
    "Y_preds = []\n",
    "\n",
    "# Generate and check output\n",
    "for test_input, correct_output in zip(test_inputs, correct_outputs):\n",
    "    linear_combination = weight1 * test_input[0] + weight2 * test_input[1] + bias\n",
    "    output = int(linear_combination >= 0)\n",
    "    is_correct_string = 'Yes' if output == correct_output else 'No'\n",
    "    outputs.append([test_input[0], test_input[1], linear_combination, output,correct_output, is_correct_string])\n",
    "    print(len(Y_preds),test_input)\n",
    "    Y_preds.append(output)\n",
    "\n",
    "# Print output\n",
    "num_wrong = len([output[4] for output in outputs if output[4] == 'No'])\n",
    "output_frame = pd.DataFrame(outputs, columns=['Input 1', '  Input 2', '  Linear Combination', '  Activation Output',\"Real value\", '  Is Correct'])\n",
    "if not num_wrong:\n",
    "    print('Nice!  You got it all correct.\\n')\n",
    "else:\n",
    "    print('You got {} wrong.  Keep trying!\\n'.format(num_wrong))\n",
    "print(output_frame.to_string(index=False))\n",
    "##########################################\n",
    "line_x = np.linspace(0,1.3)\n",
    "line_y = (-line_x*weight1 - bias)/weight2\n",
    "sns.scatterplot(data = output_frame,x=\"Input 1\",y=\"  Input 2\",hue=\"Real value\",style=\"  Activation Output\")\n",
    "plt.plot(line_x,line_y)\n",
    "# Put the legend out of the figure\n",
    "plt.legend(bbox_to_anchor=(1.05, 1), loc=2, borderaxespad=0.)\n",
    "plt.show()"
   ]
  },
  {
   "cell_type": "markdown",
   "metadata": {
    "id": "gOXkKhPaC5Ok"
   },
   "source": [
    "## NOT: \n",
    "\n",
    "a difrencia de los 2 anteriores, NOT solo toma en cuenta una entrada y la \"niega\", en el siguiente exercicio crearemos un perceptrón para NOT que niegue la segunda entrada e ignore la primera."
   ]
  },
  {
   "cell_type": "code",
   "execution_count": 8,
   "metadata": {
    "id": "-nbyWs4YCsw-"
   },
   "outputs": [],
   "source": [
    "X = np.array([[0, 0], \n",
    "              [0, 1], \n",
    "              [1, 0], \n",
    "              [1, 1]])\n",
    "Y = np.array([1,0,1,0])"
   ]
  },
  {
   "cell_type": "code",
   "execution_count": 9,
   "metadata": {
    "colab": {
     "base_uri": "https://localhost:8080/",
     "height": 265
    },
    "executionInfo": {
     "elapsed": 371,
     "status": "ok",
     "timestamp": 1627888825174,
     "user": {
      "displayName": "Luis Fernando Leal Hernandez",
      "photoUrl": "",
      "userId": "08643725771405988586"
     },
     "user_tz": 360
    },
    "id": "d5yi7U0bDXug",
    "outputId": "16a4a3b9-d62b-4cec-8d1b-df78605ce172"
   },
   "outputs": [
    {
     "data": {
      "image/png": "[encoded data removed]",
      "text/plain": [
       "<Figure size 432x288 with 1 Axes>"
      ]
     },
     "metadata": {
      "needs_background": "light"
     },
     "output_type": "display_data"
    }
   ],
   "source": [
    "colours = ListedColormap(['r','b'])\n",
    "classes = [\"0\",\"1\"]\n",
    "plot = plt.scatter(X[:,0],X[:, 1],c=list(Y),cmap=colours)\n",
    "\n",
    "plt.legend(handles=plot.legend_elements()[0],labels=classes)\n",
    "plt.grid(True)\n",
    "plt.show()"
   ]
  },
  {
   "cell_type": "code",
   "execution_count": 10,
   "metadata": {
    "colab": {
     "base_uri": "https://localhost:8080/",
     "height": 466
    },
    "executionInfo": {
     "elapsed": 439,
     "status": "ok",
     "timestamp": 1627957194939,
     "user": {
      "displayName": "Luis Fernando Leal Hernandez",
      "photoUrl": "",
      "userId": "08643725771405988586"
     },
     "user_tz": 300
    },
    "id": "rjJA0kOMDhls",
    "outputId": "82357b43-2f09-4b5d-aefd-dd99facc5962"
   },
   "outputs": [
    {
     "name": "stdout",
     "output_type": "stream",
     "text": [
      "0 [0 0]\n",
      "1 [0 1]\n",
      "2 [1 0]\n",
      "3 [1 1]\n",
      "Nice!  You got it all correct.\n",
      "\n",
      " Input 1    Input 2    Linear Combination    Activation Output  Real value   Is Correct\n",
      "       0          0                     5                    1           1          Yes\n",
      "       0          1                    -5                    0           0          Yes\n",
      "       1          0                     5                    1           1          Yes\n",
      "       1          1                    -5                    0           0          Yes\n"
     ]
    },
    {
     "data": {
      "image/png": "[encoded data removed]",
      "text/plain": [
       "<Figure size 432x288 with 1 Axes>"
      ]
     },
     "metadata": {
      "needs_background": "light"
     },
     "output_type": "display_data"
    }
   ],
   "source": [
    "import pandas as pd\n",
    "\n",
    "# TODO: Set weight1, weight2, and bias\n",
    "weight1 = 0 #default 0\n",
    "weight2 = -10 #default 0\n",
    "bias =  5 #default 0\n",
    "\n",
    "\n",
    "# DON'T CHANGE ANYTHING BELOW\n",
    "# Inputs and outputs\n",
    "test_inputs =  X\n",
    "correct_outputs = [y for y in Y]\n",
    "outputs = []\n",
    "Y_preds = []\n",
    "\n",
    "# Generate and check output\n",
    "for test_input, correct_output in zip(test_inputs, correct_outputs):\n",
    "    linear_combination = weight1 * test_input[0] + weight2 * test_input[1] + bias\n",
    "    output = int(linear_combination >= 0)\n",
    "    is_correct_string = 'Yes' if output == correct_output else 'No'\n",
    "    outputs.append([test_input[0], test_input[1], linear_combination, output,correct_output, is_correct_string])\n",
    "    print(len(Y_preds),test_input)\n",
    "    Y_preds.append(output)\n",
    "\n",
    "# Print output\n",
    "num_wrong = len([output[4] for output in outputs if output[4] == 'No'])\n",
    "output_frame = pd.DataFrame(outputs, columns=['Input 1', '  Input 2', '  Linear Combination', '  Activation Output',\"Real value\", '  Is Correct'])\n",
    "if not num_wrong:\n",
    "    print('Nice!  You got it all correct.\\n')\n",
    "else:\n",
    "    print('You got {} wrong.  Keep trying!\\n'.format(num_wrong))\n",
    "print(output_frame.to_string(index=False))\n",
    "##########################################\n",
    "line_x = np.linspace(0,1.3)\n",
    "line_y = (-line_x*weight1 - bias)/weight2\n",
    "sns.scatterplot(data = output_frame,x=\"Input 1\",y=\"  Input 2\",hue=\"Real value\",style=\"  Activation Output\")\n",
    "plt.plot(line_x,line_y)\n",
    "# Put the legend out of the figure\n",
    "plt.legend(bbox_to_anchor=(1.05, 1), loc=2, borderaxespad=0.)\n",
    "plt.show()"
   ]
  },
  {
   "cell_type": "markdown",
   "metadata": {
    "id": "hJP3mb4CMAbr"
   },
   "source": [
    "## XOR con perceptrones (vectorizado)"
   ]
  },
  {
   "cell_type": "code",
   "execution_count": 11,
   "metadata": {
    "id": "e-BnDEGPvkH8"
   },
   "outputs": [],
   "source": [
    "X = np.array([[0, 0], [0, 1], [1, 0], [1, 1]])\n",
    "Y = np.array([0,1,1,0])"
   ]
  },
  {
   "cell_type": "code",
   "execution_count": 12,
   "metadata": {
    "colab": {
     "base_uri": "https://localhost:8080/",
     "height": 265
    },
    "executionInfo": {
     "elapsed": 587,
     "status": "ok",
     "timestamp": 1627888995155,
     "user": {
      "displayName": "Luis Fernando Leal Hernandez",
      "photoUrl": "",
      "userId": "08643725771405988586"
     },
     "user_tz": 360
    },
    "id": "1N_Ow50xvri_",
    "outputId": "f6bdeb8a-3aea-43ee-dc26-8ffdfbfa19f8"
   },
   "outputs": [
    {
     "data": {
      "image/png": "[encoded data removed]",
      "text/plain": [
       "<Figure size 432x288 with 1 Axes>"
      ]
     },
     "metadata": {
      "needs_background": "light"
     },
     "output_type": "display_data"
    }
   ],
   "source": [
    "colours = ListedColormap(['r','b'])\n",
    "classes = [\"0\",\"1\"]\n",
    "plot = plt.scatter(X[:,0],X[:, 1],c=list(Y),cmap=colours)\n",
    "\n",
    "plt.legend(handles=plot.legend_elements()[0],labels=classes)\n",
    "plt.grid(True)\n",
    "plt.show()"
   ]
  },
  {
   "cell_type": "code",
   "execution_count": 13,
   "metadata": {},
   "outputs": [],
   "source": [
    "def activacion_heaviside(z):\n",
    "    r = z >= 0\n",
    "    r = np.expand_dims(r, axis = 1)\n",
    "    return r.astype('int')\n",
    "\n",
    "def perceptron_AND(X1, X2):\n",
    "    weight1 = 1 #default 0\n",
    "    weight2 = 1 #default 0\n",
    "    bias = -1.5 #default 0\n",
    "    \n",
    "    x = np.hstack((X1, X2))\n",
    "    weights = np.array([[weight1],[weight2]])\n",
    "    z = np.matmul(x, weights) + bias\n",
    "    h = activacion_heaviside(z.flatten())\n",
    "\n",
    "    return h\n",
    "\n",
    "def perceptron_OR(X1, X2):\n",
    "    weight1 = 2 #default 0\n",
    "    weight2 = 2 #default 0\n",
    "    bias = -1.5 #default 0\n",
    "\n",
    "    x = np.hstack((X1, X2))\n",
    "    weights = np.array([[weight1],[weight2]])\n",
    "    z = np.matmul(x, weights) + bias\n",
    "    h = activacion_heaviside(z.flatten())\n",
    "\n",
    "    return h\n",
    "\n",
    "def perceptron_NOT(X1):\n",
    "    weight1 = -10 #default 0\n",
    "    bias =  5 #default 0\n",
    "\n",
    "    x = X1\n",
    "    weights = np.array([[weight1]])\n",
    "    z = np.matmul(x, weights)\n",
    "    h = activacion_heaviside(z.flatten())\n",
    "\n",
    "    return h\n",
    "\n",
    "def perceptron_IDENTIDAD(X1, X2):\n",
    "    return X1, X2"
   ]
  },
  {
   "cell_type": "code",
   "execution_count": 14,
   "metadata": {},
   "outputs": [
    {
     "data": {
      "text/plain": [
       "array([[0, 0],\n",
       "       [0, 1],\n",
       "       [1, 0],\n",
       "       [1, 1]])"
      ]
     },
     "execution_count": 14,
     "metadata": {},
     "output_type": "execute_result"
    }
   ],
   "source": [
    "X"
   ]
  },
  {
   "cell_type": "code",
   "execution_count": 15,
   "metadata": {},
   "outputs": [],
   "source": [
    "X1 = np.expand_dims(X[:, 0], axis = 1)\n",
    "X2 = np.expand_dims(X[:, 1], axis = 1)"
   ]
  },
  {
   "cell_type": "code",
   "execution_count": 16,
   "metadata": {},
   "outputs": [
    {
     "data": {
      "text/html": [
       "<div>\n",
       "<style scoped>\n",
       "    .dataframe tbody tr th:only-of-type {\n",
       "        vertical-align: middle;\n",
       "    }\n",
       "\n",
       "    .dataframe tbody tr th {\n",
       "        vertical-align: top;\n",
       "    }\n",
       "\n",
       "    .dataframe thead th {\n",
       "        text-align: right;\n",
       "    }\n",
       "</style>\n",
       "<table border=\"1\" class=\"dataframe\">\n",
       "  <thead>\n",
       "    <tr style=\"text-align: right;\">\n",
       "      <th></th>\n",
       "      <th>X1</th>\n",
       "      <th>X2</th>\n",
       "      <th>Pred_XOR</th>\n",
       "    </tr>\n",
       "  </thead>\n",
       "  <tbody>\n",
       "    <tr>\n",
       "      <th>0</th>\n",
       "      <td>0</td>\n",
       "      <td>0</td>\n",
       "      <td>0</td>\n",
       "    </tr>\n",
       "    <tr>\n",
       "      <th>1</th>\n",
       "      <td>0</td>\n",
       "      <td>1</td>\n",
       "      <td>1</td>\n",
       "    </tr>\n",
       "    <tr>\n",
       "      <th>2</th>\n",
       "      <td>1</td>\n",
       "      <td>0</td>\n",
       "      <td>1</td>\n",
       "    </tr>\n",
       "    <tr>\n",
       "      <th>3</th>\n",
       "      <td>1</td>\n",
       "      <td>1</td>\n",
       "      <td>0</td>\n",
       "    </tr>\n",
       "  </tbody>\n",
       "</table>\n",
       "</div>"
      ],
      "text/plain": [
       "   X1  X2  Pred_XOR\n",
       "0   0   0         0\n",
       "1   0   1         1\n",
       "2   1   0         1\n",
       "3   1   1         0"
      ]
     },
     "execution_count": 16,
     "metadata": {},
     "output_type": "execute_result"
    }
   ],
   "source": [
    "capa1_1 = perceptron_AND(X1, X2)\n",
    "capa1_2 = perceptron_IDENTIDAD(X1, X2)\n",
    "\n",
    "#############\n",
    "capa2_1 = perceptron_NOT(capa1_1)\n",
    "capa2_2 = perceptron_OR(capa1_2[0], capa1_2[1])\n",
    "\n",
    "############\n",
    "capa3_1 = perceptron_AND(capa2_1, capa2_2)\n",
    "y_prediccion = capa3_1\n",
    "\n",
    "df = pd.DataFrame({'X1': X1.flatten(), 'X2': X2.flatten(), 'Pred_XOR': y_prediccion.flatten()})\n",
    "df"
   ]
  },
  {
   "cell_type": "markdown",
   "metadata": {},
   "source": [
    "### Revisitando XOR"
   ]
  },
  {
   "cell_type": "markdown",
   "metadata": {},
   "source": [
    "<img src='./imgs/xor.png'>"
   ]
  },
  {
   "cell_type": "code",
   "execution_count": 17,
   "metadata": {},
   "outputs": [],
   "source": [
    "def sigmoid(X):\n",
    "    return 1/(1+np.exp(-X))"
   ]
  },
  {
   "cell_type": "code",
   "execution_count": 18,
   "metadata": {},
   "outputs": [],
   "source": [
    "class RedNeuronal:\n",
    "    def __init__(self):\n",
    "        self.Wc1 = np.array([\n",
    "                   [20.0, -20.0],\n",
    "                   [20.0, -20.0],\n",
    "                   [-10.0, 30.0]\n",
    "                ])\n",
    "\n",
    "        self. Wc2  = np.array([20.0, 20.0, -30.0])\n",
    "\n",
    "    def forward_propagation(self,X):\n",
    "        A = sigmoid(np.matmul(X,self.Wc1))\n",
    "        A = np.hstack((A, np.ones((4,1))))\n",
    "        y_aprox = sigmoid(np.matmul(A,self.Wc2))\n",
    "\n",
    "        return A, y_aprox"
   ]
  },
  {
   "cell_type": "code",
   "execution_count": 19,
   "metadata": {},
   "outputs": [],
   "source": [
    "X = np.array([[0, 0, 1],\n",
    "              [0, 1, 1],\n",
    "              [1, 0, 1],\n",
    "              [1, 1, 1]])"
   ]
  },
  {
   "cell_type": "code",
   "execution_count": 20,
   "metadata": {},
   "outputs": [],
   "source": [
    "red_neuronal = RedNeuronal()\n",
    "H, y_pred = red_neuronal.forward_propagation(X)\n",
    "pred = y_pred >= 0.5\n",
    "pred = pred.astype('int')"
   ]
  },
  {
   "cell_type": "code",
   "execution_count": 21,
   "metadata": {},
   "outputs": [
    {
     "name": "stdout",
     "output_type": "stream",
     "text": [
      "Matriz intermedia\n",
      "[[4.53978687e-05 1.00000000e+00 1.00000000e+00]\n",
      " [9.99954602e-01 9.99954602e-01 1.00000000e+00]\n",
      " [9.99954602e-01 9.99954602e-01 1.00000000e+00]\n",
      " [1.00000000e+00 4.53978687e-05 1.00000000e+00]]\n",
      "\n",
      " Y_aprox\n",
      "[4.54391049e-05 9.99954520e-01 9.99954520e-01 4.54391049e-05]\n",
      "\n",
      " Labels aprox\n",
      "[0 1 1 0]\n"
     ]
    }
   ],
   "source": [
    "print(\"Matriz intermedia\")\n",
    "print(H)\n",
    "print(\"\\n Y_aprox\")\n",
    "print(y_pred)\n",
    "print(\"\\n Labels aprox\")\n",
    "print(pred)"
   ]
  },
  {
   "cell_type": "code",
   "execution_count": 22,
   "metadata": {},
   "outputs": [
    {
     "data": {
      "image/png": "[encoded data removed]",
      "text/plain": [
       "<Figure size 432x288 with 1 Axes>"
      ]
     },
     "metadata": {
      "needs_background": "light"
     },
     "output_type": "display_data"
    }
   ],
   "source": [
    "colours = ListedColormap(['r','b'])\n",
    "classes = ['0','1']\n",
    "plot = plt.scatter(H[:,0], H[:, 1], c = list(pred), cmap = colours)\n",
    "\n",
    "#plt.legend(handles = plot.legend_elements()[0],labels = classes)\n",
    "plt.grid(True)\n",
    "plt.show()"
   ]
  },
  {
   "cell_type": "markdown",
   "metadata": {},
   "source": [
    "### Conclusiones\n",
    "La representacion original muestra un espacio linealmente no separable. Sin embargo la capa intermedia genera un espacio linealmente separable lo cual permite la correcta clasificación. Esto debido al aprendizaje realizado para comprender el comportamiento de los datos y estimar sus parámetros"
   ]
  }
 ],
 "metadata": {
  "colab": {
   "authorship_tag": "ABX9TyMR7NdesHdsZH45RRG21ZEZ",
   "collapsed_sections": [],
   "name": "Clase_06_perceptron_2.ipynb",
   "provenance": []
  },
  "kernelspec": {
   "display_name": "Python 3",
   "language": "python",
   "name": "python3"
  },
  "language_info": {
   "codemirror_mode": {
    "name": "ipython",
    "version": 3
   },
   "file_extension": ".py",
   "mimetype": "text/x-python",
   "name": "python",
   "nbconvert_exporter": "python",
   "pygments_lexer": "ipython3",
   "version": "3.9.4"
  }
 },
 "nbformat": 4,
 "nbformat_minor": 4
}
