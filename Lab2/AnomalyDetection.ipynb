{
 "cells": [
  {
   "cell_type": "markdown",
   "id": "7f8774cc-c302-43e8-a96a-2526da45412c",
   "metadata": {},
   "source": [
    "Carlos Garcia - 21000475"
   ]
  },
  {
   "cell_type": "markdown",
   "id": "58b31996-c4d2-4346-8883-b71770c86cce",
   "metadata": {},
   "source": [
    "### Librerias"
   ]
  },
  {
   "cell_type": "code",
   "execution_count": 1,
   "id": "d6fb7302-9a13-4bb7-8809-4e02f01352a0",
   "metadata": {},
   "outputs": [],
   "source": [
    "import numpy as np\n",
    "import pandas as pd\n",
    "from sklearn import metrics\n",
    "import matplotlib.pyplot as plt\n",
    "from matplotlib.colors import ListedColormap\n",
    "from scipy.stats import multivariate_normal"
   ]
  },
  {
   "cell_type": "markdown",
   "id": "c2fe37c2-4ca5-4632-bdd0-cff2c506d072",
   "metadata": {},
   "source": [
    "### Datos"
   ]
  },
  {
   "cell_type": "code",
   "execution_count": 2,
   "id": "988ee823-3950-47f1-b505-28c0a84804c5",
   "metadata": {},
   "outputs": [],
   "source": [
    "trainset = pd.read_excel('./input/estaturas.xlsx', sheet_name = 'normales', names = ['Estatura', 'Edad']) \n",
    "data = pd.read_excel('./input/estaturas.xlsx', sheet_name = 'valtest(normales)', names = ['Estatura', 'Edad'])\n",
    "anomalies = pd.read_excel('./input/estaturas.xlsx', sheet_name = 'valtest(anomalias)', names = ['Estatura', 'Edad'])"
   ]
  },
  {
   "cell_type": "code",
   "execution_count": 3,
   "id": "4f75f144-dc62-4c0f-9d94-259326d46e5a",
   "metadata": {},
   "outputs": [
    {
     "name": "stdout",
     "output_type": "stream",
     "text": [
      "(46, 2)\n",
      "(8, 2)\n",
      "(4, 2)\n"
     ]
    }
   ],
   "source": [
    "print(trainset.shape)\n",
    "print(data.shape)\n",
    "print(anomalies.shape)"
   ]
  },
  {
   "cell_type": "code",
   "execution_count": 4,
   "id": "805dbc47-b82d-4056-b954-a2b7c0a79a70",
   "metadata": {},
   "outputs": [],
   "source": [
    "data['label'] = 0\n",
    "anomalies['label'] = 1"
   ]
  },
  {
   "cell_type": "code",
   "execution_count": 5,
   "id": "64b8d37a-0826-44c9-8edb-5393050666be",
   "metadata": {},
   "outputs": [
    {
     "name": "stdout",
     "output_type": "stream",
     "text": [
      "(6, 3)\n",
      "(6, 3)\n"
     ]
    }
   ],
   "source": [
    "data = np.array_split(data.values, 2)\n",
    "anomalies = np.array_split(anomalies.values, 2)\n",
    "\n",
    "cvdata = np.vstack((data[0], anomalies[0]))\n",
    "testset = np.vstack((data[1], anomalies[1]))\n",
    "\n",
    "print(testset.shape)\n",
    "print(cvdata.shape)"
   ]
  },
  {
   "cell_type": "code",
   "execution_count": 6,
   "id": "c6d7569c-e3e8-4c47-9205-66bca3ea7480",
   "metadata": {},
   "outputs": [
    {
     "data": {
      "text/html": [
       "<div>\n",
       "<style scoped>\n",
       "    .dataframe tbody tr th:only-of-type {\n",
       "        vertical-align: middle;\n",
       "    }\n",
       "\n",
       "    .dataframe tbody tr th {\n",
       "        vertical-align: top;\n",
       "    }\n",
       "\n",
       "    .dataframe thead th {\n",
       "        text-align: right;\n",
       "    }\n",
       "</style>\n",
       "<table border=\"1\" class=\"dataframe\">\n",
       "  <thead>\n",
       "    <tr style=\"text-align: right;\">\n",
       "      <th></th>\n",
       "      <th>Estatura</th>\n",
       "      <th>Edad</th>\n",
       "    </tr>\n",
       "  </thead>\n",
       "  <tbody>\n",
       "    <tr>\n",
       "      <th>0</th>\n",
       "      <td>1.77</td>\n",
       "      <td>26</td>\n",
       "    </tr>\n",
       "    <tr>\n",
       "      <th>1</th>\n",
       "      <td>1.74</td>\n",
       "      <td>31</td>\n",
       "    </tr>\n",
       "    <tr>\n",
       "      <th>2</th>\n",
       "      <td>1.72</td>\n",
       "      <td>24</td>\n",
       "    </tr>\n",
       "    <tr>\n",
       "      <th>3</th>\n",
       "      <td>1.78</td>\n",
       "      <td>34</td>\n",
       "    </tr>\n",
       "    <tr>\n",
       "      <th>4</th>\n",
       "      <td>1.65</td>\n",
       "      <td>32</td>\n",
       "    </tr>\n",
       "  </tbody>\n",
       "</table>\n",
       "</div>"
      ],
      "text/plain": [
       "   Estatura  Edad\n",
       "0      1.77    26\n",
       "1      1.74    31\n",
       "2      1.72    24\n",
       "3      1.78    34\n",
       "4      1.65    32"
      ]
     },
     "execution_count": 6,
     "metadata": {},
     "output_type": "execute_result"
    }
   ],
   "source": [
    "trainset.head()"
   ]
  },
  {
   "cell_type": "code",
   "execution_count": 7,
   "id": "a93d04ba-19db-4aea-b07b-68034756ffc0",
   "metadata": {},
   "outputs": [
    {
     "data": {
      "image/png": "[encoded data removed]",
      "text/plain": [
       "<Figure size 432x288 with 1 Axes>"
      ]
     },
     "metadata": {
      "needs_background": "light"
     },
     "output_type": "display_data"
    }
   ],
   "source": [
    "plt.scatter(x = trainset['Estatura'], y = trainset['Edad'], c = 'blue')\n",
    "plt.show()"
   ]
  },
  {
   "cell_type": "markdown",
   "id": "98c6b434-733d-40ee-a89f-19b193b2dd4c",
   "metadata": {},
   "source": [
    "### Algoritmo"
   ]
  },
  {
   "cell_type": "code",
   "execution_count": 8,
   "id": "19815243-b626-4396-9bc1-d9c5d5adebe7",
   "metadata": {},
   "outputs": [],
   "source": [
    "def estimateDistribParams(x):\n",
    "    mean = np.mean(x, axis = 0)\n",
    "    covmatrix = np.cov(x.T)\n",
    "    return mean, covmatrix"
   ]
  },
  {
   "cell_type": "code",
   "execution_count": 9,
   "id": "17c940df-9b9b-426f-b5e1-4f61f2214b23",
   "metadata": {},
   "outputs": [],
   "source": [
    "def getProbability(x, mean, sigma):\n",
    "    p = multivariate_normal(mean = mean, cov = sigma)\n",
    "    probs = p.pdf(x)\n",
    "    return probs"
   ]
  },
  {
   "cell_type": "code",
   "execution_count": 10,
   "id": "1194f17f-9eab-4e63-94f3-186871c579f3",
   "metadata": {},
   "outputs": [],
   "source": [
    "def anomalyDetection(probs, y, epsilon):\n",
    "    yhat = np.piecewise(probs, [probs < epsilon, probs >= epsilon], [1, 0])\n",
    "    f1_score = np.round(metrics.f1_score(y, yhat), 4)\n",
    "    \n",
    "    return yhat, f1_score"
   ]
  },
  {
   "cell_type": "code",
   "execution_count": 11,
   "id": "8583c0d4-2093-4c2a-afc1-6e978e0c06f1",
   "metadata": {},
   "outputs": [],
   "source": [
    "def selectTreshold(x, y, mean, sigma):\n",
    "    probs = getProbability(x, mean, sigma)\n",
    "    steps = (max(probs) - min(probs)) / 1000\n",
    "    epsilon_grid = np.arange(min(probs), max(probs), steps)\n",
    "    \n",
    "    f1_scores = [anomalyDetection(probs, y, e)[1] for e in epsilon_grid]\n",
    "    idx = np.argmax(f1_scores)\n",
    "    \n",
    "    print(\"Optimal treshold selected = {}\".format(epsilon_grid[idx]))\n",
    "    print(\"F1 Score obtained = {}\".format(f1_scores[idx]))\n",
    "    \n",
    "    return epsilon_grid[idx], f1_scores[idx]"
   ]
  },
  {
   "cell_type": "markdown",
   "id": "901e858b-9a7f-4062-8b49-c652b0208d2e",
   "metadata": {},
   "source": [
    "### Tunning CrossValidation"
   ]
  },
  {
   "cell_type": "code",
   "execution_count": 12,
   "id": "5576dab7-bdbb-4ee4-bdc2-b662601f8668",
   "metadata": {},
   "outputs": [],
   "source": [
    "mean, sdev = estimateDistribParams(trainset.values)"
   ]
  },
  {
   "cell_type": "code",
   "execution_count": 13,
   "id": "b48c8994-df54-4a1b-b0b2-d2a4bfa0ea59",
   "metadata": {},
   "outputs": [
    {
     "name": "stdout",
     "output_type": "stream",
     "text": [
      "Optimal treshold selected = 0.00018691176319452995\n",
      "F1 Score obtained = 1.0\n"
     ]
    }
   ],
   "source": [
    "epsilon, score = selectTreshold(cvdata[:, :-1], cvdata[:, -1], mean, sdev)"
   ]
  },
  {
   "cell_type": "markdown",
   "id": "43064441-9dcb-4db2-ae7f-48c41138bfa6",
   "metadata": {},
   "source": [
    "### Evaluación"
   ]
  },
  {
   "cell_type": "code",
   "execution_count": 15,
   "id": "7ed00fde-3d6e-4c2a-8d0e-618e8510bd8d",
   "metadata": {},
   "outputs": [
    {
     "name": "stdout",
     "output_type": "stream",
     "text": [
      "F1 Score obtained = 1.0\n"
     ]
    }
   ],
   "source": [
    "preds, score = anomalyDetection(getProbability(testset[:, :-1], mean, sdev), testset[:, -1], epsilon)\n",
    "print(\"F1 Score obtained = {}\".format(score))"
   ]
  },
  {
   "cell_type": "code",
   "execution_count": 16,
   "id": "38749559-9930-4bb5-bbf0-fe751c97818f",
   "metadata": {},
   "outputs": [
    {
     "data": {
      "image/png": "[encoded data removed]",
      "text/plain": [
       "<Figure size 432x288 with 1 Axes>"
      ]
     },
     "metadata": {
      "needs_background": "light"
     },
     "output_type": "display_data"
    }
   ],
   "source": [
    "scatter = plt.scatter(x = testset[:, 0], y = testset[:, 1], c = preds, cmap = ListedColormap(['b','r']))\n",
    "plt.legend(handles = scatter.legend_elements()[0], labels = ['normal', 'anomaly'])\n",
    "plt.title('Deteccion de anomalias')\n",
    "plt.xlabel('Estatura (m)')\n",
    "plt.ylabel('Edad (años)')\n",
    "plt.show()"
   ]
  }
 ],
 "metadata": {
  "kernelspec": {
   "display_name": "Python 3",
   "language": "python",
   "name": "python3"
  },
  "language_info": {
   "codemirror_mode": {
    "name": "ipython",
    "version": 3
   },
   "file_extension": ".py",
   "mimetype": "text/x-python",
   "name": "python",
   "nbconvert_exporter": "python",
   "pygments_lexer": "ipython3",
   "version": "3.9.4"
  }
 },
 "nbformat": 4,
 "nbformat_minor": 5
}
