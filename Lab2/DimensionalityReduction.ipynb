{
 "cells": [
  {
   "cell_type": "markdown",
   "metadata": {},
   "source": [
    "Carlos Garcia - 21000475"
   ]
  },
  {
   "cell_type": "code",
   "execution_count": 1,
   "metadata": {},
   "outputs": [],
   "source": [
    "from tensorflow import keras\n",
    "\n",
    "import numpy as np\n",
    "import pandas as pd\n",
    "from sklearn.preprocessing import StandardScaler\n",
    "from sklearn.manifold import TSNE\n",
    "from sklearn.cluster import KMeans\n",
    "import matplotlib.pyplot as plt"
   ]
  },
  {
   "cell_type": "markdown",
   "metadata": {},
   "source": [
    "### Datos"
   ]
  },
  {
   "cell_type": "code",
   "execution_count": 2,
   "metadata": {},
   "outputs": [],
   "source": [
    "fashion_mnist = keras.datasets.fashion_mnist\r\n",
    "(x_train, y_train), (x_test, y_test) = fashion_mnist.load_data()\r\n",
    "\r\n",
    "data = np.concatenate((x_train, x_test), axis = 0)\r\n",
    "labels = np.concatenate((y_train, y_test), axis = 0)"
   ]
  },
  {
   "cell_type": "code",
   "execution_count": 3,
   "metadata": {},
   "outputs": [
    {
     "name": "stdout",
     "output_type": "stream",
     "text": [
      "(70000, 28, 28)\n",
      "(70000,)\n"
     ]
    }
   ],
   "source": [
    "print(data.shape)\r\n",
    "print(labels.shape)"
   ]
  },
  {
   "cell_type": "code",
   "execution_count": 4,
   "metadata": {},
   "outputs": [
    {
     "name": "stdout",
     "output_type": "stream",
     "text": [
      "{0: 'T-shirt/top', 1: 'Trouser', 2: 'Pullover', 3: 'Dress', 4: 'Coat', 5: 'Sandal', 6: 'Shirt', 7: 'Sneaker', 8: 'Bag', 9: 'Ankle boot'}\n"
     ]
    }
   ],
   "source": [
    "labels_dictionary = dict()\n",
    "labels_dictionary[0] = 'T-shirt/top'\n",
    "labels_dictionary[1] = 'Trouser'\n",
    "labels_dictionary[2] = 'Pullover'\n",
    "labels_dictionary[3] = 'Dress'\n",
    "labels_dictionary[4] = 'Coat'\n",
    "labels_dictionary[5] = 'Sandal'\n",
    "labels_dictionary[6] = 'Shirt'\n",
    "labels_dictionary[7] = 'Sneaker'\n",
    "labels_dictionary[8] = 'Bag'\n",
    "labels_dictionary[9] = 'Ankle boot'\n",
    "\n",
    "print(labels_dictionary)"
   ]
  },
  {
   "cell_type": "code",
   "execution_count": 5,
   "metadata": {},
   "outputs": [],
   "source": [
    "scaler = StandardScaler()\r\n",
    "datanorm = np.array([scaler.fit_transform(img) for img in data])"
   ]
  },
  {
   "cell_type": "markdown",
   "metadata": {},
   "source": [
    "### Reducir dimensionalidad"
   ]
  },
  {
   "cell_type": "code",
   "execution_count": 6,
   "metadata": {},
   "outputs": [],
   "source": [
    "def getPCA(data, selection = 'pve', k = 0.8):\n",
    "    #Calculate eigenvalues and eigenvectors\n",
    "    x = data.reshape(data.shape[0], -1)\n",
    "    sigma = np.cov(x.T)\n",
    "    eigen_values, U = np.linalg.eig(sigma) #values, vectors\n",
    "    \n",
    "    #Sort matrix\n",
    "    ranked_idx = np.argsort(eigen_values)[::-1]\n",
    "    eigen_values[::-1].sort()\n",
    "    U = U[ranked_idx]\n",
    "    \n",
    "    #Get Proportion of variance explained (PVE)\n",
    "    pve = eigen_values / sum(eigen_values)\n",
    "    cumPVE = np.cumsum(pve)\n",
    "\n",
    "    #Select number of components to use\n",
    "    if selection == 'pve':\n",
    "        reduce_idx = np.where(cumPVE >= k)[0][0]\n",
    "        U_reducida = (U.T[:, :reduce_idx])\n",
    "    else:\n",
    "        U_reducida = (U.T[:, :k])\n",
    "    \n",
    "    #Get Projected data\n",
    "    Z = np.matmul(U_reducida.T, x.T).T\n",
    "    \n",
    "    #plt.plot(np.cumsum(PVE))\n",
    "    #plt.plot(PVE)\n",
    "    \n",
    "    return Z, pve[0:k]"
   ]
  },
  {
   "cell_type": "code",
   "execution_count": 7,
   "metadata": {},
   "outputs": [],
   "source": [
    "def getTSNE(data, k):\n",
    "    x = data.reshape(data.shape[0], -1)\n",
    "    tsne = TSNE(n_components = k)\n",
    "    x_embedded = tsne.fit_transform(x)\n",
    "    return x_embedded"
   ]
  },
  {
   "cell_type": "code",
   "execution_count": 8,
   "metadata": {},
   "outputs": [],
   "source": [
    "pca_matrix, pve = getPCA(datanorm, 'k', 2)"
   ]
  },
  {
   "cell_type": "code",
   "execution_count": 9,
   "metadata": {},
   "outputs": [
    {
     "name": "stdout",
     "output_type": "stream",
     "text": [
      "Cantidad de varianza preservada con PCA=0.22747299171018584\n"
     ]
    }
   ],
   "source": [
    "print(\"Cantidad de varianza preservada con PCA={}\".format(np.abs(pve.cumsum())[-1]))"
   ]
  },
  {
   "cell_type": "code",
   "execution_count": 10,
   "metadata": {},
   "outputs": [
    {
     "data": {
      "text/plain": [
       "<matplotlib.collections.PathCollection at 0x20ec420dcd0>"
      ]
     },
     "execution_count": 10,
     "metadata": {},
     "output_type": "execute_result"
    },
    {
     "data": {
      "image/png": "[encoded data removed]",
      "text/plain": [
       "<Figure size 432x288 with 1 Axes>"
      ]
     },
     "metadata": {
      "needs_background": "light"
     },
     "output_type": "display_data"
    }
   ],
   "source": [
    "plt.scatter(x = pca_matrix[:, 0].real, y = pca_matrix[:, 1].real)"
   ]
  },
  {
   "cell_type": "code",
   "execution_count": 11,
   "metadata": {},
   "outputs": [],
   "source": [
    "tsne_matrix = getTSNE(datanorm, 2)"
   ]
  },
  {
   "cell_type": "code",
   "execution_count": 12,
   "metadata": {},
   "outputs": [
    {
     "data": {
      "text/plain": [
       "<matplotlib.collections.PathCollection at 0x20eac179670>"
      ]
     },
     "execution_count": 12,
     "metadata": {},
     "output_type": "execute_result"
    },
    {
     "data": {
      "image/png": "[encoded data removed]",
      "text/plain": [
       "<Figure size 432x288 with 1 Axes>"
      ]
     },
     "metadata": {
      "needs_background": "light"
     },
     "output_type": "display_data"
    }
   ],
   "source": [
    "plt.scatter(x = tsne_matrix[:, 0], y = tsne_matrix[:, 1])"
   ]
  },
  {
   "cell_type": "markdown",
   "metadata": {},
   "source": [
    "#### Conclusiones\n",
    "- El modelo PCA es computacionalmente más veloz, mientras el modelo T-SNE ocupa más recursos y tiempo\n",
    "- El modelo T-SNE muestra una escala mayor, por lo cual podemos ver una mayor dispersión entre los datos, en contraste con el modelo PCA"
   ]
  },
  {
   "cell_type": "markdown",
   "metadata": {},
   "source": [
    "### Clustering"
   ]
  },
  {
   "cell_type": "code",
   "execution_count": 14,
   "metadata": {},
   "outputs": [
    {
     "data": {
      "image/png": "[encoded data removed]",
      "text/plain": [
       "<Figure size 432x288 with 1 Axes>"
      ]
     },
     "metadata": {
      "needs_background": "light"
     },
     "output_type": "display_data"
    }
   ],
   "source": [
    "#Elbow method\n",
    "withinss = []\n",
    "for k in range(2, 15):\n",
    "    kmeans = KMeans(n_clusters = k, random_state = 0)\n",
    "    kmeans.fit(pca_matrix.real)\n",
    "    withinss.append(kmeans.inertia_)\n",
    "    \n",
    "plt.plot(np.arange(2, 15), withinss, 'o-', color = 'blue')\n",
    "plt.title('Elbow method')\n",
    "plt.xlabel('# clusters')\n",
    "plt.ylabel('Within SS')\n",
    "plt.show()"
   ]
  },
  {
   "cell_type": "markdown",
   "metadata": {},
   "source": [
    "Según los resultados obtenidos por el método del codo, se selecciona un k = 5"
   ]
  },
  {
   "cell_type": "code",
   "execution_count": 15,
   "metadata": {},
   "outputs": [],
   "source": [
    "kmeans_pca = KMeans(n_clusters=5, random_state=0).fit(pca_matrix.real)\n",
    "kmeans_tsne = KMeans(n_clusters=5, random_state=0).fit(tsne_matrix)"
   ]
  },
  {
   "cell_type": "code",
   "execution_count": 16,
   "metadata": {},
   "outputs": [
    {
     "data": {
      "image/png": "[encoded data removed]",
      "text/plain": [
       "<Figure size 432x288 with 1 Axes>"
      ]
     },
     "metadata": {
      "needs_background": "light"
     },
     "output_type": "display_data"
    }
   ],
   "source": [
    "#PCA - Clustering\n",
    "plt.scatter(x = pca_matrix[:, 0].real, y = pca_matrix[:, 1].real, c = kmeans_pca.labels_)\n",
    "plt.plot(kmeans_pca.cluster_centers_[:, 0], kmeans_pca.cluster_centers_[:, 1], 'rx', markersize = 15)\n",
    "plt.show()"
   ]
  },
  {
   "cell_type": "code",
   "execution_count": 18,
   "metadata": {},
   "outputs": [
    {
     "data": {
      "text/html": [
       "<div>\n",
       "<style scoped>\n",
       "    .dataframe tbody tr th:only-of-type {\n",
       "        vertical-align: middle;\n",
       "    }\n",
       "\n",
       "    .dataframe tbody tr th {\n",
       "        vertical-align: top;\n",
       "    }\n",
       "\n",
       "    .dataframe thead th {\n",
       "        text-align: right;\n",
       "    }\n",
       "</style>\n",
       "<table border=\"1\" class=\"dataframe\">\n",
       "  <thead>\n",
       "    <tr style=\"text-align: right;\">\n",
       "      <th>labels</th>\n",
       "      <th>Ankle boot</th>\n",
       "      <th>Bag</th>\n",
       "      <th>Coat</th>\n",
       "      <th>Dress</th>\n",
       "      <th>Pullover</th>\n",
       "      <th>Sandal</th>\n",
       "      <th>Shirt</th>\n",
       "      <th>Sneaker</th>\n",
       "      <th>T-shirt/top</th>\n",
       "      <th>Trouser</th>\n",
       "    </tr>\n",
       "    <tr>\n",
       "      <th>cluster</th>\n",
       "      <th></th>\n",
       "      <th></th>\n",
       "      <th></th>\n",
       "      <th></th>\n",
       "      <th></th>\n",
       "      <th></th>\n",
       "      <th></th>\n",
       "      <th></th>\n",
       "      <th></th>\n",
       "      <th></th>\n",
       "    </tr>\n",
       "  </thead>\n",
       "  <tbody>\n",
       "    <tr>\n",
       "      <th>0</th>\n",
       "      <td>264.0</td>\n",
       "      <td>1603.0</td>\n",
       "      <td>2801.0</td>\n",
       "      <td>1992.0</td>\n",
       "      <td>2172.0</td>\n",
       "      <td>713.0</td>\n",
       "      <td>2817.0</td>\n",
       "      <td>173.0</td>\n",
       "      <td>3570.0</td>\n",
       "      <td>2162.0</td>\n",
       "    </tr>\n",
       "    <tr>\n",
       "      <th>1</th>\n",
       "      <td>323.0</td>\n",
       "      <td>718.0</td>\n",
       "      <td>22.0</td>\n",
       "      <td>43.0</td>\n",
       "      <td>87.0</td>\n",
       "      <td>2244.0</td>\n",
       "      <td>129.0</td>\n",
       "      <td>4939.0</td>\n",
       "      <td>104.0</td>\n",
       "      <td>38.0</td>\n",
       "    </tr>\n",
       "    <tr>\n",
       "      <th>2</th>\n",
       "      <td>4875.0</td>\n",
       "      <td>851.0</td>\n",
       "      <td>1545.0</td>\n",
       "      <td>1614.0</td>\n",
       "      <td>2935.0</td>\n",
       "      <td>2466.0</td>\n",
       "      <td>1902.0</td>\n",
       "      <td>370.0</td>\n",
       "      <td>542.0</td>\n",
       "      <td>438.0</td>\n",
       "    </tr>\n",
       "    <tr>\n",
       "      <th>3</th>\n",
       "      <td>55.0</td>\n",
       "      <td>579.0</td>\n",
       "      <td>2310.0</td>\n",
       "      <td>2244.0</td>\n",
       "      <td>1174.0</td>\n",
       "      <td>197.0</td>\n",
       "      <td>1443.0</td>\n",
       "      <td>3.0</td>\n",
       "      <td>1960.0</td>\n",
       "      <td>4162.0</td>\n",
       "    </tr>\n",
       "    <tr>\n",
       "      <th>4</th>\n",
       "      <td>1483.0</td>\n",
       "      <td>3249.0</td>\n",
       "      <td>322.0</td>\n",
       "      <td>1107.0</td>\n",
       "      <td>632.0</td>\n",
       "      <td>1380.0</td>\n",
       "      <td>709.0</td>\n",
       "      <td>1515.0</td>\n",
       "      <td>824.0</td>\n",
       "      <td>200.0</td>\n",
       "    </tr>\n",
       "  </tbody>\n",
       "</table>\n",
       "</div>"
      ],
      "text/plain": [
       "labels   Ankle boot     Bag    Coat   Dress  Pullover  Sandal   Shirt  \\\n",
       "cluster                                                                 \n",
       "0             264.0  1603.0  2801.0  1992.0    2172.0   713.0  2817.0   \n",
       "1             323.0   718.0    22.0    43.0      87.0  2244.0   129.0   \n",
       "2            4875.0   851.0  1545.0  1614.0    2935.0  2466.0  1902.0   \n",
       "3              55.0   579.0  2310.0  2244.0    1174.0   197.0  1443.0   \n",
       "4            1483.0  3249.0   322.0  1107.0     632.0  1380.0   709.0   \n",
       "\n",
       "labels   Sneaker  T-shirt/top  Trouser  \n",
       "cluster                                 \n",
       "0          173.0       3570.0   2162.0  \n",
       "1         4939.0        104.0     38.0  \n",
       "2          370.0        542.0    438.0  \n",
       "3            3.0       1960.0   4162.0  \n",
       "4         1515.0        824.0    200.0  "
      ]
     },
     "execution_count": 18,
     "metadata": {},
     "output_type": "execute_result"
    }
   ],
   "source": [
    "results = pd.DataFrame({'cluster': kmeans_pca.labels_, 'labels': list(map(labels_dictionary.get, labels)), 'count': np.ones_like(labels)})\n",
    "results.pivot_table(values = 'count', index = 'cluster', columns = 'labels', aggfunc = np.sum)"
   ]
  },
  {
   "cell_type": "code",
   "execution_count": 17,
   "metadata": {},
   "outputs": [
    {
     "data": {
      "image/png": "[encoded data removed]",
      "text/plain": [
       "<Figure size 432x288 with 1 Axes>"
      ]
     },
     "metadata": {
      "needs_background": "light"
     },
     "output_type": "display_data"
    }
   ],
   "source": [
    "#T-SNE Clustering\n",
    "plt.scatter(x = tsne_matrix[:, 0], y = tsne_matrix[:, 1], c = kmeans_tsne.labels_)\n",
    "plt.plot(kmeans_tsne.cluster_centers_[:, 0], kmeans_tsne.cluster_centers_[:, 1], 'rx', markersize = 15)\n",
    "plt.show()"
   ]
  },
  {
   "cell_type": "code",
   "execution_count": 19,
   "metadata": {},
   "outputs": [
    {
     "data": {
      "text/html": [
       "<div>\n",
       "<style scoped>\n",
       "    .dataframe tbody tr th:only-of-type {\n",
       "        vertical-align: middle;\n",
       "    }\n",
       "\n",
       "    .dataframe tbody tr th {\n",
       "        vertical-align: top;\n",
       "    }\n",
       "\n",
       "    .dataframe thead th {\n",
       "        text-align: right;\n",
       "    }\n",
       "</style>\n",
       "<table border=\"1\" class=\"dataframe\">\n",
       "  <thead>\n",
       "    <tr style=\"text-align: right;\">\n",
       "      <th>labels</th>\n",
       "      <th>Ankle boot</th>\n",
       "      <th>Bag</th>\n",
       "      <th>Coat</th>\n",
       "      <th>Dress</th>\n",
       "      <th>Pullover</th>\n",
       "      <th>Sandal</th>\n",
       "      <th>Shirt</th>\n",
       "      <th>Sneaker</th>\n",
       "      <th>T-shirt/top</th>\n",
       "      <th>Trouser</th>\n",
       "    </tr>\n",
       "    <tr>\n",
       "      <th>cluster</th>\n",
       "      <th></th>\n",
       "      <th></th>\n",
       "      <th></th>\n",
       "      <th></th>\n",
       "      <th></th>\n",
       "      <th></th>\n",
       "      <th></th>\n",
       "      <th></th>\n",
       "      <th></th>\n",
       "      <th></th>\n",
       "    </tr>\n",
       "  </thead>\n",
       "  <tbody>\n",
       "    <tr>\n",
       "      <th>0</th>\n",
       "      <td>NaN</td>\n",
       "      <td>62.0</td>\n",
       "      <td>6181.0</td>\n",
       "      <td>1163.0</td>\n",
       "      <td>5838.0</td>\n",
       "      <td>NaN</td>\n",
       "      <td>3951.0</td>\n",
       "      <td>NaN</td>\n",
       "      <td>79.0</td>\n",
       "      <td>45.0</td>\n",
       "    </tr>\n",
       "    <tr>\n",
       "      <th>1</th>\n",
       "      <td>6262.0</td>\n",
       "      <td>21.0</td>\n",
       "      <td>51.0</td>\n",
       "      <td>57.0</td>\n",
       "      <td>4.0</td>\n",
       "      <td>3317.0</td>\n",
       "      <td>16.0</td>\n",
       "      <td>615.0</td>\n",
       "      <td>5.0</td>\n",
       "      <td>4894.0</td>\n",
       "    </tr>\n",
       "    <tr>\n",
       "      <th>2</th>\n",
       "      <td>NaN</td>\n",
       "      <td>826.0</td>\n",
       "      <td>96.0</td>\n",
       "      <td>1599.0</td>\n",
       "      <td>636.0</td>\n",
       "      <td>5.0</td>\n",
       "      <td>2027.0</td>\n",
       "      <td>1.0</td>\n",
       "      <td>5681.0</td>\n",
       "      <td>4.0</td>\n",
       "    </tr>\n",
       "    <tr>\n",
       "      <th>3</th>\n",
       "      <td>737.0</td>\n",
       "      <td>34.0</td>\n",
       "      <td>448.0</td>\n",
       "      <td>41.0</td>\n",
       "      <td>355.0</td>\n",
       "      <td>3627.0</td>\n",
       "      <td>42.0</td>\n",
       "      <td>6382.0</td>\n",
       "      <td>22.0</td>\n",
       "      <td>485.0</td>\n",
       "    </tr>\n",
       "    <tr>\n",
       "      <th>4</th>\n",
       "      <td>1.0</td>\n",
       "      <td>6057.0</td>\n",
       "      <td>224.0</td>\n",
       "      <td>4140.0</td>\n",
       "      <td>167.0</td>\n",
       "      <td>51.0</td>\n",
       "      <td>964.0</td>\n",
       "      <td>2.0</td>\n",
       "      <td>1213.0</td>\n",
       "      <td>1572.0</td>\n",
       "    </tr>\n",
       "  </tbody>\n",
       "</table>\n",
       "</div>"
      ],
      "text/plain": [
       "labels   Ankle boot     Bag    Coat   Dress  Pullover  Sandal   Shirt  \\\n",
       "cluster                                                                 \n",
       "0               NaN    62.0  6181.0  1163.0    5838.0     NaN  3951.0   \n",
       "1            6262.0    21.0    51.0    57.0       4.0  3317.0    16.0   \n",
       "2               NaN   826.0    96.0  1599.0     636.0     5.0  2027.0   \n",
       "3             737.0    34.0   448.0    41.0     355.0  3627.0    42.0   \n",
       "4               1.0  6057.0   224.0  4140.0     167.0    51.0   964.0   \n",
       "\n",
       "labels   Sneaker  T-shirt/top  Trouser  \n",
       "cluster                                 \n",
       "0            NaN         79.0     45.0  \n",
       "1          615.0          5.0   4894.0  \n",
       "2            1.0       5681.0      4.0  \n",
       "3         6382.0         22.0    485.0  \n",
       "4            2.0       1213.0   1572.0  "
      ]
     },
     "execution_count": 19,
     "metadata": {},
     "output_type": "execute_result"
    }
   ],
   "source": [
    "results = pd.DataFrame({'cluster': kmeans_tsne.labels_, 'labels': list(map(labels_dictionary.get, labels)), 'count': np.ones_like(labels)})\n",
    "results.pivot_table(values = 'count', index = 'cluster', columns = 'labels', aggfunc = np.sum)"
   ]
  },
  {
   "cell_type": "markdown",
   "metadata": {},
   "source": [
    "#### Conclusiones\n",
    "- No en todos los clusters generados por PCA se realizaron agrupaciones de prendas similares. Sin embargo, en algunos clusters como el cluster 0, es posible ver una clara agrupación pues contiene principalmente las etiquetas (coat, pullover, t-shirt, shirt) siendo todas estas para la parte superior del cuerpo. \n",
    "- En el caso de los clusters generados por T-SNE es posible apreciar una mejor agrupación de las distintas prendas dentro de cada cluster, ejemplo de esto es el cluster 0 que agrupa (coat, pullover, shirt), o bien el cluster 3 que agrupa (sandal, sneaker) mostrando una clara agrupación de prendas de la parte superior, como de zapatos. "
   ]
  },
  {
   "cell_type": "markdown",
   "metadata": {},
   "source": [
    "### Conclusiones Generales\n",
    "- En general es importante seleccionar un número de dimensiones adecuado para trabajar, en este caso PCA muetra un 22% de la varianza preservada por lo este valor mejoraría con un mayor número de dimensiones, a su vez teniendo un impacto directo en el modelo de clustering. \n",
    "- La reducción de dimensionalidades es una técnica de gran utilidad para mejorar el funcionamiento de otros algoritmos, por lo que es un preprocesamiento útil que en este caso permite pasar de 784 a 2 dimensiones."
   ]
  }
 ],
 "metadata": {
  "interpreter": {
   "hash": "cd92519e450c25804136c2008eef24c3d70be2e96d599be5f96d22ea88f45fe2"
  },
  "kernelspec": {
   "display_name": "Python 3",
   "language": "python",
   "name": "python3"
  },
  "language_info": {
   "codemirror_mode": {
    "name": "ipython",
    "version": 3
   },
   "file_extension": ".py",
   "mimetype": "text/x-python",
   "name": "python",
   "nbconvert_exporter": "python",
   "pygments_lexer": "ipython3",
   "version": "3.9.4"
  }
 },
 "nbformat": 4,
 "nbformat_minor": 4
}
