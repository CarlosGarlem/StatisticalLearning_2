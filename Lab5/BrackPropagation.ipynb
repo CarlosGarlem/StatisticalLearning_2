{
 "cells": [
  {
   "cell_type": "markdown",
   "metadata": {},
   "source": [
    "#### BackPropagation\n",
    "Carlos Garcia - 21000475"
   ]
  },
  {
   "cell_type": "markdown",
   "metadata": {
    "id": "-xJPhEzbqWp9"
   },
   "source": [
    "<img src=\"\\imgs\\red.png\">"
   ]
  },
  {
   "cell_type": "code",
   "execution_count": 2,
   "metadata": {
    "executionInfo": {
     "elapsed": 5,
     "status": "ok",
     "timestamp": 1628129715157,
     "user": {
      "displayName": "Luis Fernando Leal Hernandez",
      "photoUrl": "",
      "userId": "08643725771405988586"
     },
     "user_tz": 300
    },
    "id": "Q1yAwOc4qPLs"
   },
   "outputs": [],
   "source": [
    "import numpy as np"
   ]
  },
  {
   "cell_type": "code",
   "execution_count": 5,
   "metadata": {},
   "outputs": [],
   "source": [
    "x = np.array([[3, 10]], dtype = 'float')"
   ]
  },
  {
   "cell_type": "code",
   "execution_count": 21,
   "metadata": {},
   "outputs": [],
   "source": [
    "h3 = np.array([\n",
    "               [-0.23, 0.22, 0.77],\n",
    "               [0.9, 0.88, -0.4]\n",
    "            ])\n",
    "\n",
    "\n",
    "h2 = np.array([\n",
    "               [-0.3, 0.62, 0.45],\n",
    "               [0.45, 0.57, 0.48],\n",
    "               [0.65, 0.58, -0.45]\n",
    "            ])\n",
    "\n",
    "h1 = np.array([\n",
    "               [0.3, 0.46, 0.02],\n",
    "               [0.22, -0.7, 0.65],\n",
    "               [0.65, 0.9, 0.34]\n",
    "            ])"
   ]
  },
  {
   "cell_type": "code",
   "execution_count": 22,
   "metadata": {},
   "outputs": [],
   "source": [
    "delta_h3 = np.matmul(x, h3)\n",
    "delta_h2 = np.matmul(delta_h3, h2)\n",
    "delta_h1 = np.matmul(delta_h2, h1)"
   ]
  },
  {
   "cell_type": "code",
   "execution_count": 23,
   "metadata": {},
   "outputs": [
    {
     "name": "stdout",
     "output_type": "stream",
     "text": [
      "\n",
      "Hidden Layer 3 ---------------\n",
      "[[ 8.31  9.46 -1.69]]\n",
      "Neuron with most error is: 2\n",
      "\n",
      "Hidden Layer 2 ---------------\n",
      "[[0.6655 9.5642 9.0408]]\n",
      "Neuron with most error is: 2\n",
      "\n",
      "Hidden Layer 1 ---------------\n",
      "[[8.180294 1.74791  9.303912]]\n",
      "Neuron with most error is: 3\n"
     ]
    }
   ],
   "source": [
    "layers = [delta_h3, delta_h2, delta_h1]\n",
    "i = 3\n",
    "for layer in layers:\n",
    "    n = np.argmax(layer.flatten())\n",
    "    print('\\nHidden Layer {} ---------------'.format(i))\n",
    "    print(layer)\n",
    "    print('Neuron with most error is: {}'.format(n+1))\n",
    "    i -= 1"
   ]
  }
 ],
 "metadata": {
  "colab": {
   "authorship_tag": "ABX9TyM4mu7/uuh9fHS0M6siTuFJ",
   "collapsed_sections": [],
   "name": "forward_propagation_numpy.ipynb",
   "provenance": []
  },
  "kernelspec": {
   "display_name": "Python 3",
   "language": "python",
   "name": "python3"
  },
  "language_info": {
   "codemirror_mode": {
    "name": "ipython",
    "version": 3
   },
   "file_extension": ".py",
   "mimetype": "text/x-python",
   "name": "python",
   "nbconvert_exporter": "python",
   "pygments_lexer": "ipython3",
   "version": "3.9.4"
  }
 },
 "nbformat": 4,
 "nbformat_minor": 4
}
