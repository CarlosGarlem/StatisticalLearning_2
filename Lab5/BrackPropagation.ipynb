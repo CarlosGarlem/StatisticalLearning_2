{
 "cells": [
  {
   "cell_type": "markdown",
   "metadata": {},
   "source": [
    "#### BackPropagation\n",
    "Carlos Garcia - 21000475"
   ]
  },
  {
   "cell_type": "markdown",
   "metadata": {
    "id": "-xJPhEzbqWp9"
   },
   "source": [
    "<img src=\"./imgs/red.png\">"
   ]
  },
  {
   "cell_type": "code",
   "execution_count": 1,
   "metadata": {
    "executionInfo": {
     "elapsed": 5,
     "status": "ok",
     "timestamp": 1628129715157,
     "user": {
      "displayName": "Luis Fernando Leal Hernandez",
      "photoUrl": "",
      "userId": "08643725771405988586"
     },
     "user_tz": 300
    },
    "id": "Q1yAwOc4qPLs"
   },
   "outputs": [],
   "source": [
    "import numpy as np\n",
    "import matplotlib.pyplot as plt"
   ]
  },
  {
   "cell_type": "code",
   "execution_count": null,
   "metadata": {},
   "outputs": [],
   "source": [
    "x = np.array([[3, 10]], dtype = 'float')\n",
    "x.shape"
   ]
  },
  {
   "cell_type": "code",
   "execution_count": null,
   "metadata": {},
   "outputs": [],
   "source": [
    "h3 = np.array([\n",
    "               [-0.23, 0.22, 0.77],\n",
    "               [0.9, 0.88, -0.4]\n",
    "            ])\n",
    "\n",
    "\n",
    "h2 = np.array([\n",
    "               [-0.3, 0.62, 0.45],\n",
    "               [0.45, 0.57, 0.48],\n",
    "               [0.65, 0.58, -0.45]\n",
    "            ])\n",
    "\n",
    "h1 = np.array([\n",
    "               [0.3, 0.46, 0.02],\n",
    "               [0.22, -0.7, 0.65],\n",
    "               [0.65, 0.9, 0.34]\n",
    "            ])"
   ]
  },
  {
   "cell_type": "code",
   "execution_count": null,
   "metadata": {},
   "outputs": [],
   "source": [
    "delta_h3 = np.matmul(x, h3)\n",
    "delta_h2 = np.matmul(delta_h3, h2)\n",
    "delta_h1 = np.matmul(delta_h2, h1)"
   ]
  },
  {
   "cell_type": "code",
   "execution_count": null,
   "metadata": {},
   "outputs": [],
   "source": [
    "layers = [delta_h3, delta_h2, delta_h1]\n",
    "i = 3\n",
    "for layer in layers:\n",
    "    n = np.argmax(layer.flatten())\n",
    "    print('\\nHidden Layer {} ---------------'.format(i))\n",
    "    print(layer)\n",
    "    print('Neuron with most error is: {}'.format(n+1))\n",
    "    i -= 1"
   ]
  },
  {
   "cell_type": "markdown",
   "metadata": {},
   "source": [
    "### XOR con ANN"
   ]
  },
  {
   "cell_type": "markdown",
   "metadata": {},
   "source": [
    "##### Forward functions"
   ]
  },
  {
   "cell_type": "code",
   "execution_count": 2,
   "metadata": {},
   "outputs": [],
   "source": [
    "def append_bias(x):\n",
    "    return np.hstack((x, np.ones((x.shape[0], 1))))"
   ]
  },
  {
   "cell_type": "code",
   "execution_count": 3,
   "metadata": {},
   "outputs": [],
   "source": [
    "def relu(x):\n",
    "    return np.where(x >= 0.0, x, 0.0)    "
   ]
  },
  {
   "cell_type": "code",
   "execution_count": 278,
   "metadata": {},
   "outputs": [],
   "source": [
    "def initialize_weights(input_features, layers):\n",
    "    #layers contain the number of layers neurons and is equal to the length of hidden + output layers\n",
    "    weights = dict()\n",
    "    bias = 1\n",
    "    neurons = input_features + bias\n",
    "    for l in range(1, len(layers) + 1):\n",
    "        weights['W{}'.format(l)] = np.random.normal(loc = 0, scale = 0.5, size = (neurons, layers[l-1]))\n",
    "        neurons = layers[l-1] + bias        \n",
    "        \n",
    "    return weights  "
   ]
  },
  {
   "cell_type": "code",
   "execution_count": 257,
   "metadata": {},
   "outputs": [],
   "source": [
    "def getCost(y_hat, y_real):\n",
    "    return 1/2 * np.mean(np.power(y_hat - y_real, 2))"
   ]
  },
  {
   "cell_type": "markdown",
   "metadata": {},
   "source": [
    "##### Backpropagation"
   ]
  },
  {
   "cell_type": "code",
   "execution_count": 246,
   "metadata": {},
   "outputs": [],
   "source": [
    "def relu_prime(x):\n",
    "    return np.where(x >= 0, 1.0, 0.0) "
   ]
  },
  {
   "cell_type": "code",
   "execution_count": 247,
   "metadata": {},
   "outputs": [],
   "source": [
    "def cost_derivative(y_hat, y):\n",
    "    #Remember y_hat is just the output activation of a layer\n",
    "    return y_hat - y"
   ]
  },
  {
   "cell_type": "markdown",
   "metadata": {},
   "source": [
    "##### Network definition"
   ]
  },
  {
   "cell_type": "code",
   "execution_count": 51,
   "metadata": {},
   "outputs": [],
   "source": [
    "def train_network(X, Y, epochs, lr): \n",
    "    costs = []\n",
    "    weights = initialize_weights(X.shape[1], [8,2,1])\n",
    "    for epoch in range(1, epochs + 1):\n",
    "        zs, activations = forward_propagation(X, weights)\n",
    "        costs.append(getCost(activations[-1], Y)) \n",
    "        nabla_w = backward_propagation(zs, activations, y, weights)\n",
    "        for i in range(1, 4):\n",
    "            weights['W{}'.format(i)] = weights['W{}'.format(i)] - (lr * nabla_w[i - 1])\n",
    "        \n",
    "    return weights, activations, costs"
   ]
  },
  {
   "cell_type": "code",
   "execution_count": 25,
   "metadata": {},
   "outputs": [],
   "source": [
    "def forward_propagation(X, weights):   \n",
    "    layer = append_bias(X)\n",
    "    L = len(weights.keys()) #total number of layers\n",
    "    \n",
    "    #Cached results\n",
    "    zs = []\n",
    "    #activations = []\n",
    "    activations = [layer] #maybe just X\n",
    "    \n",
    "    for l in range(1, L + 1):\n",
    "        #forward propagation part\n",
    "        Z = np.matmul(layer, weights['W{}'.format(l)])\n",
    "        if l < L:\n",
    "            A = relu(Z)\n",
    "            Z = append_bias(Z)\n",
    "            A = append_bias(A)\n",
    "        else:\n",
    "            A = Z * 1\n",
    "        \n",
    "        zs.append(Z)\n",
    "        activations.append(A)\n",
    "        layer = A\n",
    "        \n",
    "    return zs, activations"
   ]
  },
  {
   "cell_type": "code",
   "execution_count": 26,
   "metadata": {},
   "outputs": [],
   "source": [
    "def backward_propagation2(zs, activations, y, W):\n",
    "    nabla_w = [np.zeros(w.shape) for w in list(W.values())]\n",
    "    delta = cost_derivative(activations[-1], y) * relu_prime(zs[-1])\n",
    "    nabla_w[-1] = np.matmul(activations[-2].T, delta)\n",
    "    for l in range(len(zs)-1, 0, -1):\n",
    "        delta = delta[:, :-1] if l < len(zs)-1 else delta\n",
    "        act = activations[l-1][:, :-1]\n",
    "        print('-------')\n",
    "        print(delta.shape)\n",
    "        print(act.shape)\n",
    "        print(W['W{}'.format(l+1)].shape)\n",
    "        delta = np.matmul(delta, W['W{}'.format(l+1)].T) * relu_prime(zs[l])\n",
    "        nabla_w[l-1] = np.matmul(delta.T, act)\n",
    "\n",
    "    return nabla_w"
   ]
  },
  {
   "cell_type": "code",
   "execution_count": 27,
   "metadata": {},
   "outputs": [],
   "source": [
    "def backward_propagation(zs, activations, y, W):\n",
    "    nabla_w = [np.zeros(w.shape) for w in list(W.values())]\n",
    "    delta = cost_derivative(activations[-1], y) * relu_prime(zs[-1])\n",
    "    nabla_w[-1] = np.matmul(activations[-2].T, delta)\n",
    "    for l in range(len(zs)-1, 0, -1):\n",
    "        delta = delta[:, :-1] if l < len(zs)-1 else delta\n",
    "        act = activations[l-1]\n",
    "        #print('-------')\n",
    "        #print('d ',delta.shape)\n",
    "        #print('a ',act.shape)\n",
    "        #print('z ', zs[l].shape)\n",
    "        #print('w ', W['W{}'.format(l+1)].shape)\n",
    "        delta = np.matmul(delta, W['W{}'.format(l+1)].T) * relu_prime(zs[l-1])\n",
    "        #print('d ', delta.shape)\n",
    "        nabla_w[l-1] = np.matmul(act.T, delta[:, :-1])\n",
    "        #print('nw ', nabla_w[l-1].shape)\n",
    "\n",
    "    return nabla_w"
   ]
  },
  {
   "cell_type": "markdown",
   "metadata": {},
   "source": [
    "##### Run Model"
   ]
  },
  {
   "cell_type": "code",
   "execution_count": 279,
   "metadata": {},
   "outputs": [
    {
     "name": "stdout",
     "output_type": "stream",
     "text": [
      "[[1. 1.]\n",
      " [1. 0.]\n",
      " [0. 1.]\n",
      " [0. 0.]]\n",
      "(4, 2)\n",
      "[[0]\n",
      " [1]\n",
      " [1]\n",
      " [0]]\n"
     ]
    }
   ],
   "source": [
    "x = np.array([[1, 1],\n",
    "              [1, 0],\n",
    "              [0, 1],\n",
    "              [0, 0]], dtype = 'float')\n",
    "\n",
    "y = np.array([0,1,1,0]).reshape(4,1)\n",
    "\n",
    "print(x)\n",
    "print(x.shape)\n",
    "print(y)"
   ]
  },
  {
   "cell_type": "code",
   "execution_count": 280,
   "metadata": {},
   "outputs": [],
   "source": [
    "#weights = initialize_weights(x.shape[1], [4,2,1])\n",
    "#weights"
   ]
  },
  {
   "cell_type": "code",
   "execution_count": 295,
   "metadata": {},
   "outputs": [],
   "source": [
    "model_params, activations, costs = train_network(x, y, 5, 0.05)"
   ]
  },
  {
   "cell_type": "code",
   "execution_count": 296,
   "metadata": {},
   "outputs": [
    {
     "data": {
      "text/plain": [
       "[<matplotlib.lines.Line2D at 0x20406936970>]"
      ]
     },
     "execution_count": 296,
     "metadata": {},
     "output_type": "execute_result"
    },
    {
     "data": {
      "image/png": "[encoded data removed]",
      "text/plain": [
       "<Figure size 432x288 with 1 Axes>"
      ]
     },
     "metadata": {
      "needs_background": "light"
     },
     "output_type": "display_data"
    }
   ],
   "source": [
    "plt.plot(np.arange(1, len(costs)+1), costs, 'bo--', linewidth=2, markersize=5)"
   ]
  },
  {
   "cell_type": "code",
   "execution_count": 297,
   "metadata": {},
   "outputs": [
    {
     "data": {
      "text/plain": [
       "[0.15929658918310347,\n",
       " 0.14694981707718618,\n",
       " 0.13904788292939918,\n",
       " 0.13399064507481548,\n",
       " 0.1307540128478819]"
      ]
     },
     "execution_count": 297,
     "metadata": {},
     "output_type": "execute_result"
    }
   ],
   "source": [
    "costs"
   ]
  },
  {
   "cell_type": "code",
   "execution_count": 298,
   "metadata": {},
   "outputs": [
    {
     "data": {
      "text/plain": [
       "[array([[1., 1., 1.],\n",
       "        [1., 0., 1.],\n",
       "        [0., 1., 1.],\n",
       "        [0., 0., 1.]]),\n",
       " array([[2.85296288e-01, 9.36637020e-01, 0.00000000e+00, 2.39025050e-01,\n",
       "         2.33384093e-01, 2.05442229e-02, 2.77187416e+00, 2.69937113e-01,\n",
       "         1.00000000e+00],\n",
       "        [4.81979001e-01, 1.28751447e-03, 1.16373623e-01, 0.00000000e+00,\n",
       "         8.95445865e-01, 0.00000000e+00, 1.73305334e+00, 5.46392343e-02,\n",
       "         1.00000000e+00],\n",
       "        [1.84618496e-01, 1.30963275e+00, 0.00000000e+00, 8.32120126e-01,\n",
       "         0.00000000e+00, 0.00000000e+00, 1.68492244e+00, 3.01720510e-01,\n",
       "         1.00000000e+00],\n",
       "        [3.81301210e-01, 3.74283243e-01, 1.41183708e-01, 8.95922988e-02,\n",
       "         8.10084690e-02, 0.00000000e+00, 6.46101623e-01, 8.64226314e-02,\n",
       "         1.00000000e+00]]),\n",
       " array([[0., 0., 1.],\n",
       "        [0., 0., 1.],\n",
       "        [0., 0., 1.],\n",
       "        [0., 0., 1.]]),\n",
       " array([[0.39272453],\n",
       "        [0.39272453],\n",
       "        [0.39272453],\n",
       "        [0.39272453]])]"
      ]
     },
     "execution_count": 298,
     "metadata": {},
     "output_type": "execute_result"
    }
   ],
   "source": [
    "activations"
   ]
  },
  {
   "cell_type": "code",
   "execution_count": 299,
   "metadata": {},
   "outputs": [
    {
     "data": {
      "text/plain": [
       "{'W1': array([[ 0.10067779, -0.37299573, -0.02481009, -0.59309508,  0.8144374 ,\n",
       "          0.09451332,  1.08695171, -0.0317834 ],\n",
       "        [-0.19668271,  0.93534951, -0.3592604 ,  0.74252783, -0.66206177,\n",
       "          0.07606146,  1.03882082,  0.21529788],\n",
       "        [ 0.38130121,  0.37428324,  0.14118371,  0.0895923 ,  0.08100847,\n",
       "         -0.15003055,  0.64610162,  0.08642263]]),\n",
       " 'W2': array([[-0.14610836,  0.52627997],\n",
       "        [ 0.09963979, -0.05312749],\n",
       "        [-0.07307173, -1.04774433],\n",
       "        [ 0.14372343,  0.0548624 ],\n",
       "        [ 0.51664368,  0.28516563],\n",
       "        [-0.62179143, -0.30388386],\n",
       "        [-1.0130976 , -0.42369512],\n",
       "        [-0.03684243,  0.24391173],\n",
       "        [ 0.04090509, -0.1002511 ]]),\n",
       " 'W3': array([[0.69878913],\n",
       "        [0.56585903],\n",
       "        [0.41417963]])}"
      ]
     },
     "execution_count": 299,
     "metadata": {},
     "output_type": "execute_result"
    }
   ],
   "source": [
    "model_params"
   ]
  },
  {
   "cell_type": "code",
   "execution_count": 300,
   "metadata": {},
   "outputs": [
    {
     "data": {
      "text/plain": [
       "array([[0.69878913],\n",
       "       [0.56585903],\n",
       "       [0.41417963]])"
      ]
     },
     "execution_count": 300,
     "metadata": {},
     "output_type": "execute_result"
    }
   ],
   "source": [
    "model_params['W3']"
   ]
  },
  {
   "cell_type": "code",
   "execution_count": 301,
   "metadata": {},
   "outputs": [
    {
     "data": {
      "text/plain": [
       "array([[1., 1., 1.],\n",
       "       [1., 0., 1.],\n",
       "       [0., 1., 1.],\n",
       "       [0., 0., 1.]])"
      ]
     },
     "execution_count": 301,
     "metadata": {},
     "output_type": "execute_result"
    }
   ],
   "source": [
    "input_layer = append_bias(x)\n",
    "input_layer"
   ]
  },
  {
   "cell_type": "code",
   "execution_count": 302,
   "metadata": {},
   "outputs": [
    {
     "data": {
      "text/plain": [
       "array([[1.67882778],\n",
       "       [1.11296876],\n",
       "       [0.98003865],\n",
       "       [0.41417963]])"
      ]
     },
     "execution_count": 302,
     "metadata": {},
     "output_type": "execute_result"
    }
   ],
   "source": [
    "linear_combination = np.matmul(append_bias(x), model_params['W3'])\n",
    "linear_combination"
   ]
  }
 ],
 "metadata": {
  "colab": {
   "authorship_tag": "ABX9TyM4mu7/uuh9fHS0M6siTuFJ",
   "collapsed_sections": [],
   "name": "forward_propagation_numpy.ipynb",
   "provenance": []
  },
  "kernelspec": {
   "display_name": "Python 3",
   "language": "python",
   "name": "python3"
  },
  "language_info": {
   "codemirror_mode": {
    "name": "ipython",
    "version": 3
   },
   "file_extension": ".py",
   "mimetype": "text/x-python",
   "name": "python",
   "nbconvert_exporter": "python",
   "pygments_lexer": "ipython3",
   "version": "3.9.4"
  }
 },
 "nbformat": 4,
 "nbformat_minor": 4
}
