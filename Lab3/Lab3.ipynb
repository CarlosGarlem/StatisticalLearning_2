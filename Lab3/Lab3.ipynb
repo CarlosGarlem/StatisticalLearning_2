{
 "cells": [
  {
   "cell_type": "markdown",
   "id": "3df48885-c062-492f-b1df-7a1f0ce8333f",
   "metadata": {},
   "source": [
    "Carlos Garcia - 21000475"
   ]
  },
  {
   "cell_type": "code",
   "execution_count": 1,
   "id": "5515bb9c-0c0e-46dd-9f5c-3b1eface0da9",
   "metadata": {},
   "outputs": [],
   "source": [
    "import numpy as np\n",
    "import pandas as pd\n",
    "import matplotlib.pyplot as plt\n",
    "from sklearn.preprocessing import PolynomialFeatures"
   ]
  },
  {
   "cell_type": "markdown",
   "id": "06a30f61-cb8a-492e-adfd-4fc667f5608e",
   "metadata": {},
   "source": [
    "### Obtención de datos"
   ]
  },
  {
   "cell_type": "code",
   "execution_count": 2,
   "id": "7366af79-cc82-4562-ad3d-8657419b69f9",
   "metadata": {},
   "outputs": [
    {
     "data": {
      "text/html": [
       "<div>\n",
       "<style scoped>\n",
       "    .dataframe tbody tr th:only-of-type {\n",
       "        vertical-align: middle;\n",
       "    }\n",
       "\n",
       "    .dataframe tbody tr th {\n",
       "        vertical-align: top;\n",
       "    }\n",
       "\n",
       "    .dataframe thead th {\n",
       "        text-align: right;\n",
       "    }\n",
       "</style>\n",
       "<table border=\"1\" class=\"dataframe\">\n",
       "  <thead>\n",
       "    <tr style=\"text-align: right;\">\n",
       "      <th></th>\n",
       "      <th>SalePrice</th>\n",
       "      <th>OverallQual</th>\n",
       "      <th>1stFlrSF</th>\n",
       "      <th>TotRmsAbvGrd</th>\n",
       "      <th>YearBuilt</th>\n",
       "      <th>LotFrontage</th>\n",
       "    </tr>\n",
       "  </thead>\n",
       "  <tbody>\n",
       "    <tr>\n",
       "      <th>0</th>\n",
       "      <td>208500.0</td>\n",
       "      <td>7.0</td>\n",
       "      <td>856.0</td>\n",
       "      <td>8.0</td>\n",
       "      <td>2003.0</td>\n",
       "      <td>65.0</td>\n",
       "    </tr>\n",
       "    <tr>\n",
       "      <th>1</th>\n",
       "      <td>181500.0</td>\n",
       "      <td>6.0</td>\n",
       "      <td>1262.0</td>\n",
       "      <td>6.0</td>\n",
       "      <td>1976.0</td>\n",
       "      <td>80.0</td>\n",
       "    </tr>\n",
       "    <tr>\n",
       "      <th>2</th>\n",
       "      <td>223500.0</td>\n",
       "      <td>7.0</td>\n",
       "      <td>920.0</td>\n",
       "      <td>6.0</td>\n",
       "      <td>2001.0</td>\n",
       "      <td>68.0</td>\n",
       "    </tr>\n",
       "    <tr>\n",
       "      <th>3</th>\n",
       "      <td>140000.0</td>\n",
       "      <td>7.0</td>\n",
       "      <td>961.0</td>\n",
       "      <td>7.0</td>\n",
       "      <td>1915.0</td>\n",
       "      <td>60.0</td>\n",
       "    </tr>\n",
       "    <tr>\n",
       "      <th>4</th>\n",
       "      <td>250000.0</td>\n",
       "      <td>8.0</td>\n",
       "      <td>1145.0</td>\n",
       "      <td>9.0</td>\n",
       "      <td>2000.0</td>\n",
       "      <td>84.0</td>\n",
       "    </tr>\n",
       "  </tbody>\n",
       "</table>\n",
       "</div>"
      ],
      "text/plain": [
       "   SalePrice  OverallQual  1stFlrSF  TotRmsAbvGrd  YearBuilt  LotFrontage\n",
       "0   208500.0          7.0     856.0           8.0     2003.0         65.0\n",
       "1   181500.0          6.0    1262.0           6.0     1976.0         80.0\n",
       "2   223500.0          7.0     920.0           6.0     2001.0         68.0\n",
       "3   140000.0          7.0     961.0           7.0     1915.0         60.0\n",
       "4   250000.0          8.0    1145.0           9.0     2000.0         84.0"
      ]
     },
     "execution_count": 2,
     "metadata": {},
     "output_type": "execute_result"
    }
   ],
   "source": [
    "data = np.load('./input/proyecto_training_data.npy')\n",
    "data = pd.DataFrame(data, columns = ['SalePrice', 'OverallQual', '1stFlrSF', 'TotRmsAbvGrd', 'YearBuilt', 'LotFrontage'])\n",
    "data.head()"
   ]
  },
  {
   "cell_type": "markdown",
   "id": "3e9b80f9-532d-4f5a-ba56-9dbf26b83e3b",
   "metadata": {},
   "source": [
    "### Análisis"
   ]
  },
  {
   "cell_type": "code",
   "execution_count": 3,
   "id": "6f4a09aa-69ba-4f8e-805b-c886fe78766c",
   "metadata": {},
   "outputs": [],
   "source": [
    "results = np.zeros((3, 3))\n",
    "for i in range(1,4):\n",
    "    poly = PolynomialFeatures(i)\n",
    "    for f in range(2,5):\n",
    "        dim = poly.fit_transform(data.iloc[:,1:f]).shape[1]\n",
    "        results[i-1, f-2] = dim"
   ]
  },
  {
   "cell_type": "code",
   "execution_count": 4,
   "id": "f245b24b-7aa7-489a-bb7c-387f3de25dba",
   "metadata": {},
   "outputs": [
    {
     "data": {
      "text/html": [
       "<div>\n",
       "<style scoped>\n",
       "    .dataframe tbody tr th:only-of-type {\n",
       "        vertical-align: middle;\n",
       "    }\n",
       "\n",
       "    .dataframe tbody tr th {\n",
       "        vertical-align: top;\n",
       "    }\n",
       "\n",
       "    .dataframe thead th {\n",
       "        text-align: right;\n",
       "    }\n",
       "</style>\n",
       "<table border=\"1\" class=\"dataframe\">\n",
       "  <thead>\n",
       "    <tr style=\"text-align: right;\">\n",
       "      <th></th>\n",
       "      <th>1_Feature</th>\n",
       "      <th>2_Features</th>\n",
       "      <th>3_Features</th>\n",
       "    </tr>\n",
       "  </thead>\n",
       "  <tbody>\n",
       "    <tr>\n",
       "      <th>Grado_1</th>\n",
       "      <td>2.0</td>\n",
       "      <td>3.0</td>\n",
       "      <td>4.0</td>\n",
       "    </tr>\n",
       "    <tr>\n",
       "      <th>Grado_2</th>\n",
       "      <td>3.0</td>\n",
       "      <td>6.0</td>\n",
       "      <td>10.0</td>\n",
       "    </tr>\n",
       "    <tr>\n",
       "      <th>Grado_3</th>\n",
       "      <td>4.0</td>\n",
       "      <td>10.0</td>\n",
       "      <td>20.0</td>\n",
       "    </tr>\n",
       "  </tbody>\n",
       "</table>\n",
       "</div>"
      ],
      "text/plain": [
       "         1_Feature  2_Features  3_Features\n",
       "Grado_1        2.0         3.0         4.0\n",
       "Grado_2        3.0         6.0        10.0\n",
       "Grado_3        4.0        10.0        20.0"
      ]
     },
     "execution_count": 4,
     "metadata": {},
     "output_type": "execute_result"
    }
   ],
   "source": [
    "comparative_df = pd.DataFrame(data = results, columns = ['1_Feature', '2_Features', '3_Features'], index = ['Grado_1', 'Grado_2', 'Grado_3'])\n",
    "comparative_df"
   ]
  },
  {
   "cell_type": "code",
   "execution_count": 5,
   "id": "889e5dc4-5598-42fd-b5a4-046b12970635",
   "metadata": {},
   "outputs": [
    {
     "data": {
      "text/plain": [
       "Text(0, 0.5, 'Número de Dimensiones')"
      ]
     },
     "execution_count": 5,
     "metadata": {},
     "output_type": "execute_result"
    },
    {
     "data": {
      "image/png": "[encoded data removed]",
      "text/plain": [
       "<Figure size 1080x504 with 1 Axes>"
      ]
     },
     "metadata": {
      "needs_background": "light"
     },
     "output_type": "display_data"
    }
   ],
   "source": [
    "comparative_df.plot(kind=\"bar\", figsize = (15,7), rot=0)\n",
    "plt.title(\"Comparativa de Dimensionalidad\")\n",
    "plt.xlabel(\"Grados de Polinomio\")\n",
    "plt.ylabel(\"Número de Dimensiones\")"
   ]
  },
  {
   "cell_type": "markdown",
   "id": "7ad24ce8-2246-4162-80c5-0a8da1df9488",
   "metadata": {},
   "source": [
    "### Conclusiones"
   ]
  },
  {
   "cell_type": "markdown",
   "id": "95877c99-2221-40dd-b8ed-d9db5908434e",
   "metadata": {},
   "source": [
    "- Como indica la \"Maldición de la dimensionalidad\" al incrementar el grado de polinomio es posible observar un incremento, similar a una tendencia exponencial, en el número de combinaciones posibles entre las variables de entrada\n",
    "- El incrementar un feature a partir de una transformación polinómica de grado 2 implica un crecimiento de aproximadamente el doble con la variable interior, hasta asemejar un crecimiento exponencial\n",
    "- Aunque las transformaciones polinómicas son útiles, el no considerar el crecimiento de dimensionalidad de los datos de entrada puede implicar una complejidad computacional mayor para el algoritmo a evaluar"
   ]
  }
 ],
 "metadata": {
  "kernelspec": {
   "display_name": "Python 3",
   "language": "python",
   "name": "python3"
  },
  "language_info": {
   "codemirror_mode": {
    "name": "ipython",
    "version": 3
   },
   "file_extension": ".py",
   "mimetype": "text/x-python",
   "name": "python",
   "nbconvert_exporter": "python",
   "pygments_lexer": "ipython3",
   "version": "3.9.4"
  }
 },
 "nbformat": 4,
 "nbformat_minor": 5
}
